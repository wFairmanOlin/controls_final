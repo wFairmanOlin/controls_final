{
 "cells": [
  {
   "cell_type": "markdown",
   "metadata": {},
   "source": [
    "Will and Shawn try coding"
   ]
  },
  {
   "cell_type": "code",
   "execution_count": 1,
   "metadata": {
    "collapsed": true
   },
   "outputs": [],
   "source": [
    "import pandas as pd\n",
    "import numpy as np\n",
    "import matplotlib.pyplot as plt\n",
    "%matplotlib inline"
   ]
  },
  {
   "cell_type": "markdown",
   "metadata": {},
   "source": [
    "## Estimating constants\n",
    "Mass ~ 0.035kg if we assume the density is [http://www.advancedmagnets.com/custom-magnets/]"
   ]
  },
  {
   "cell_type": "markdown",
   "metadata": {},
   "source": [
    "## Create Model"
   ]
  },
  {
   "cell_type": "code",
   "execution_count": 64,
   "metadata": {
    "collapsed": true
   },
   "outputs": [],
   "source": [
    "class State:\n",
    "    def __init__(self, t, x_meas, x, x_dot, x_ddot, v, i_gain):\n",
    "        self.t = t\n",
    "        self.x_meas = x_meas\n",
    "        self.x = x            # Position\n",
    "        self.x_dot = x_dot    # Velocity\n",
    "        self.x_ddot = x_ddot  # Acceleration\n",
    "        self.v = v            # Voltage across solenoid\n",
    "        self.i_gain = i_gain  # Cumulative error\n",
    "        \n",
    "    def get_df(self):\n",
    "        '''\n",
    "        Turns state in to a pandas dataframe\n",
    "        '''\n",
    "        df = pd.DataFrame({\n",
    "            't':[self.t],\n",
    "            'x_meas':[self.x_meas],\n",
    "            'x':[self.x],\n",
    "            'x_dot':[self.x_dot],\n",
    "            'x_ddot':[self.x_ddot],\n",
    "            'v':[self.v],\n",
    "            'i_gain':[self.i_gain],\n",
    "        })\n",
    "        return df\n",
    "    \n",
    "    \n",
    "def update_x_ddot(State):\n",
    "    # Force depends on m*g, voltage across solenoid, position of permanent magnet\n",
    "    force = m*g - cf * State.v / (State.x**2)\n",
    "    # Calculate acceleration using force\n",
    "    x_ddot = force / m\n",
    "    return x_ddot\n",
    "\n",
    "def update_x_dot(State):\n",
    "    # Calculate change in velocity with acceleration * time\n",
    "    x_dot = State.x_ddot * delta_t + State.x_dot\n",
    "    return x_dot\n",
    "\n",
    "def update_x(State):\n",
    "    # Calculate change in position with velocity * time\n",
    "    x = State.x_dot * delta_t + State.x\n",
    "    return x\n",
    "\n",
    "def update_v(State):\n",
    "    '''\n",
    "    This is our controller\n",
    "    '''\n",
    "    error = (State.x - target)\n",
    "    \n",
    "    p_gain = kp * error\n",
    "    \n",
    "    d_gain = kd * State.x_dot\n",
    "    i_gain = State.i_gain + ki*error*delta_t\n",
    "    \n",
    "    new = p_gain + d_gain + i_gain\n",
    "    \n",
    "    return new, i_gain\n",
    "\n",
    "def update_state(previous):\n",
    "    '''\n",
    "    Takes in a state, calculates an updated state using functions defined above\n",
    "    '''\n",
    "    t = previous.t + delta_t\n",
    "    x_ddot = update_x_ddot(previous)\n",
    "    x_dot = update_x_dot(previous)\n",
    "    x = update_x(previous)\n",
    "    x_meas = x\n",
    "    v, i_gain = update_v(previous)\n",
    "    new_vals = [t, x_meas, x, x_dot, x_ddot, v, i_gain]\n",
    "    new_state = State(*new_vals)\n",
    "    return new_state\n",
    "\n",
    "def run_sim(initial_state, duration):    \n",
    "    time = 0\n",
    "\n",
    "    state = initial_state\n",
    "    \n",
    "    df = pd.DataFrame()\n",
    "    \n",
    "    while time < duration:\n",
    "        df = df.append(state.get_df())\n",
    "        \n",
    "        new_state = update_state(state)\n",
    "        state = new_state\n",
    "        time += delta_t\n",
    "\n",
    "    df = df.set_index('t')\n",
    "    return df"
   ]
  },
  {
   "cell_type": "markdown",
   "metadata": {},
   "source": [
    "## Evaluate Model"
   ]
  },
  {
   "cell_type": "code",
   "execution_count": 62,
   "metadata": {
    "collapsed": true
   },
   "outputs": [],
   "source": [
    "# Physical constants\n",
    "g = 9.81 #gravity\n",
    "m = .1   #mass \n",
    "cm = 1  # hall effect sensor mass coefficient\n",
    "cv = 1   # hall effect sensor solenoid coefficient\n",
    "cf = 1   # force of solenoid coefficient"
   ]
  },
  {
   "cell_type": "code",
   "execution_count": 167,
   "metadata": {
    "scrolled": true
   },
   "outputs": [
    {
     "data": {
      "text/plain": [
       "<matplotlib.legend.Legend at 0x180dcf8bfd0>"
      ]
     },
     "execution_count": 167,
     "metadata": {},
     "output_type": "execute_result"
    },
    {
     "data": {
      "image/png": "[encoded data removed]",
      "text/plain": [
       "<Figure size 432x288 with 1 Axes>"
      ]
     },
     "metadata": {},
     "output_type": "display_data"
    }
   ],
   "source": [
    "# Input signal and starting position\n",
    "target =  0.4\n",
    "\n",
    "# PID controller constants\n",
    "kp = 0        #proportional constant\n",
    "kd = 0         #derivative constant\n",
    "ki = 0       #integral constant\n",
    "\n",
    "# Simulation properties\n",
    "delta_t = .05 #time step between points\n",
    "run_time = 1\n",
    "\n",
    "initial_state = State(0, target, target, 0, 9.81, 0, 0)\n",
    "df = run_sim(initial_state, run_time)\n",
    "\n",
    "\n",
    "time = np.arange(0, run_time, delta_t)\n",
    "real_pos = .5 * g * time**2 + 0.4\n",
    "\n",
    "\n",
    "\n",
    "df['x'].plot(label=\"x\")\n",
    "# df['x_dot'].plot()\n",
    "\n",
    "plt.plot(time, real_pos, label = \"real\")\n",
    "# df['x_ddot'].plot(label=\"accel\")\n",
    "\n",
    "plt.legend()\n",
    "# plt.ylim(0,1)"
   ]
  },
  {
   "cell_type": "code",
   "execution_count": 157,
   "metadata": {},
   "outputs": [
    {
     "data": {
      "text/html": [
       "<div>\n",
       "<style scoped>\n",
       "    .dataframe tbody tr th:only-of-type {\n",
       "        vertical-align: middle;\n",
       "    }\n",
       "\n",
       "    .dataframe tbody tr th {\n",
       "        vertical-align: top;\n",
       "    }\n",
       "\n",
       "    .dataframe thead th {\n",
       "        text-align: right;\n",
       "    }\n",
       "</style>\n",
       "<table border=\"1\" class=\"dataframe\">\n",
       "  <thead>\n",
       "    <tr style=\"text-align: right;\">\n",
       "      <th></th>\n",
       "      <th>x_meas</th>\n",
       "      <th>x</th>\n",
       "      <th>x_dot</th>\n",
       "      <th>x_ddot</th>\n",
       "      <th>v</th>\n",
       "      <th>i_gain</th>\n",
       "    </tr>\n",
       "    <tr>\n",
       "      <th>t</th>\n",
       "      <th></th>\n",
       "      <th></th>\n",
       "      <th></th>\n",
       "      <th></th>\n",
       "      <th></th>\n",
       "      <th></th>\n",
       "    </tr>\n",
       "  </thead>\n",
       "  <tbody>\n",
       "    <tr>\n",
       "      <th>0.000</th>\n",
       "      <td>0.400000</td>\n",
       "      <td>0.400000</td>\n",
       "      <td>0.00000</td>\n",
       "      <td>9.81</td>\n",
       "      <td>0.0</td>\n",
       "      <td>0.0</td>\n",
       "    </tr>\n",
       "    <tr>\n",
       "      <th>0.001</th>\n",
       "      <td>0.400000</td>\n",
       "      <td>0.400000</td>\n",
       "      <td>0.00981</td>\n",
       "      <td>9.81</td>\n",
       "      <td>0.0</td>\n",
       "      <td>0.0</td>\n",
       "    </tr>\n",
       "    <tr>\n",
       "      <th>0.002</th>\n",
       "      <td>0.400010</td>\n",
       "      <td>0.400010</td>\n",
       "      <td>0.01962</td>\n",
       "      <td>9.81</td>\n",
       "      <td>0.0</td>\n",
       "      <td>0.0</td>\n",
       "    </tr>\n",
       "    <tr>\n",
       "      <th>0.003</th>\n",
       "      <td>0.400029</td>\n",
       "      <td>0.400029</td>\n",
       "      <td>0.02943</td>\n",
       "      <td>9.81</td>\n",
       "      <td>0.0</td>\n",
       "      <td>0.0</td>\n",
       "    </tr>\n",
       "    <tr>\n",
       "      <th>0.004</th>\n",
       "      <td>0.400059</td>\n",
       "      <td>0.400059</td>\n",
       "      <td>0.03924</td>\n",
       "      <td>9.81</td>\n",
       "      <td>0.0</td>\n",
       "      <td>0.0</td>\n",
       "    </tr>\n",
       "  </tbody>\n",
       "</table>\n",
       "</div>"
      ],
      "text/plain": [
       "         x_meas         x    x_dot  x_ddot    v  i_gain\n",
       "t                                                      \n",
       "0.000  0.400000  0.400000  0.00000    9.81  0.0     0.0\n",
       "0.001  0.400000  0.400000  0.00981    9.81  0.0     0.0\n",
       "0.002  0.400010  0.400010  0.01962    9.81  0.0     0.0\n",
       "0.003  0.400029  0.400029  0.02943    9.81  0.0     0.0\n",
       "0.004  0.400059  0.400059  0.03924    9.81  0.0     0.0"
      ]
     },
     "execution_count": 157,
     "metadata": {},
     "output_type": "execute_result"
    }
   ],
   "source": [
    "df.head()"
   ]
  },
  {
   "cell_type": "code",
   "execution_count": 40,
   "metadata": {},
   "outputs": [
    {
     "data": {
      "text/plain": [
       "<AxesSubplot:xlabel='t'>"
      ]
     },
     "execution_count": 40,
     "metadata": {},
     "output_type": "execute_result"
    },
    {
     "data": {
      "image/png": "[encoded data removed]",
      "text/plain": [
       "<Figure size 432x288 with 1 Axes>"
      ]
     },
     "metadata": {},
     "output_type": "display_data"
    }
   ],
   "source": [
    "df['i_gain'].plot()"
   ]
  },
  {
   "cell_type": "code",
   "execution_count": null,
   "metadata": {
    "collapsed": true
   },
   "outputs": [],
   "source": []
  },
  {
   "cell_type": "code",
   "execution_count": null,
   "metadata": {
    "collapsed": true
   },
   "outputs": [],
   "source": []
  },
  {
   "cell_type": "code",
   "execution_count": null,
   "metadata": {
    "collapsed": true
   },
   "outputs": [],
   "source": []
  },
  {
   "cell_type": "code",
   "execution_count": null,
   "metadata": {
    "collapsed": true
   },
   "outputs": [],
   "source": []
  }
 ],
 "metadata": {
  "kernelspec": {
   "display_name": "Python 3",
   "language": "python",
   "name": "python3"
  },
  "language_info": {
   "codemirror_mode": {
    "name": "ipython",
    "version": 3
   },
   "file_extension": ".py",
   "mimetype": "text/x-python",
   "name": "python",
   "nbconvert_exporter": "python",
   "pygments_lexer": "ipython3",
   "version": "3.6.1"
  }
 },
 "nbformat": 4,
 "nbformat_minor": 5
}
