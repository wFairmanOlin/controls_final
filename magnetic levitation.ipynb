{
 "cells": [
  {
   "cell_type": "markdown",
   "id": "published-kentucky",
   "metadata": {},
   "source": [
    "# Modeling Magnetic Levitation System"
   ]
  },
  {
   "cell_type": "markdown",
   "id": "completed-theology",
   "metadata": {},
   "source": [
    "The external forces acting on our permanent magnet are shown below. The only forces acting on our circuit is the force of gravity and the force between the permanent magnet and electromagnet.\n",
    "\n",
    "<img src=\"img/free_body_diagram.jpg\" width=\"200\">\n",
    "\n",
    "The electromagnet in our system can be modeled as a circuit with a resistor and inductor in parallel.\n",
    "\n",
    "<img src=\"img/circuit.jpg\" width=\"200\">\n",
    "\n",
    "The voltage output of a hall effect sensor is simply a direct relationship with the magnetic field through the sensor and can be represented as:\n",
    "\n",
    "$$ V_{out} = C_h(B_l + B_m) $$\n",
    "\n",
    "|value | definition|\n",
    "| - | - |\n",
    "|C_h| hall effect constant |\n",
    "| B_l | magnetic field of electromagnet |\n",
    "| B_m | magneic field of permanent magnet |"
   ]
  },
  {
   "cell_type": "code",
   "execution_count": null,
   "id": "freelance-ranking",
   "metadata": {},
   "outputs": [],
   "source": [
    "\n"
   ]
  }
 ],
 "metadata": {
  "kernelspec": {
   "display_name": "Python 3",
   "language": "python",
   "name": "python3"
  },
  "language_info": {
   "codemirror_mode": {
    "name": "ipython",
    "version": 3
   },
   "file_extension": ".py",
   "mimetype": "text/x-python",
   "name": "python",
   "nbconvert_exporter": "python",
   "pygments_lexer": "ipython3",
   "version": "3.7.3"
  }
 },
 "nbformat": 4,
 "nbformat_minor": 5
}
