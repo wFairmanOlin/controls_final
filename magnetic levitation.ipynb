{
 "cells": [
  {
   "cell_type": "markdown",
   "metadata": {},
   "source": [
    "# Modeling Magnetic Levitation System"
   ]
  },
  {
   "cell_type": "markdown",
   "metadata": {},
   "source": [
    "## System\n",
    "\n",
    "## Plant\n",
    "We are modeling a permanent magnet floating beneath an electromagnet. The input to our system is the desired position for the permanent magnet relative to our electromagnet and the output of the system is the actual position. The goal is to keep the output of the system at a steady value between $0$ and $\\infty$. The system also contains a hall effect sensor to measure the magnetic field. The external forces acting on our permanent magnet are shown below. The only forces acting on our magnet is the force of gravity and the force between the permanent magnet and electromagnet.\n",
    "\n",
    "<img src=\"img/free_body_diagram.jpg\" width=\"200\">\n",
    "\n",
    "With the positive $x$ direction moving away from from electromagnet, we know that the gravitional force is simply:\n",
    "\n",
    "$$ F_g = mg $$\n",
    "\n",
    "|variable | definition|\n",
    "| - | - |\n",
    "| $m$ | mass of permanent magnet |\n",
    "| $g$ | $9.81m/s^2$ |\n",
    "\n",
    "The force due to the interaction between the electromagnet and permanent magnet is more difficult. If we assume that the magnetic poles are significantly far away, we can model the force between them as \n",
    "\n",
    "$$ F = \\frac{\\mu_0 q_1 q_2}{4 \\pi x^2} \\hspace{3cm} [1]$$\n",
    "\n",
    "|variable | definition|\n",
    "| - | - |\n",
    "| $\\mu_0$ | permeability of free space |\n",
    "| $q_1 $, $q_2$ | magnetic pole strength  |\n",
    "| $x$ | distance between the two particles |\n",
    "\n",
    "We can extend the assumptions made above to the free body diagram drawn above. The force is negative because the electromagnet is stationary and pulling the permanent magnet in the negative $x$ direction.\n",
    "\n",
    "$$ F_e = -\\frac{\\mu_0 (B_l+ B_m)}{4 \\pi x^2} $$\n",
    "\n",
    "|variable | definition|\n",
    "| - | - |\n",
    "| $B_l$ | magnetic field of electromagnet |\n",
    "| $B_m$ | magnetic field of permanent magnet |\n",
    "| $x$ | distance between the two particles |"
   ]
  },
  {
   "cell_type": "markdown",
   "metadata": {},
   "source": [
    "### Electromagnet\n",
    "\n",
    "The electromagnet in our system can be modeled as a circuit with a resistor and inductor in parallel.\n",
    "\n",
    "<img src=\"img/circuit.jpg\" width=\"200\">\n",
    "\n",
    "The inductance $L$ of the electromagnet is defined as\n",
    "\n",
    "$$ L = \\mu_0 \\frac{N^2 A}{l} $$\n",
    "\n",
    "|variable | definition|\n",
    "| - | - |\n",
    "| $N$ | number of turns |\n",
    "| $l$ | length of inductor |\n",
    "| $A$ | cross sectional area of inductor |\n",
    "\n",
    "Relating input voltage $V$ to the voltage drop across each component we get\n",
    "\n",
    "$$ V(t) = i(t)R  + L \\frac{di}{dt} $$\n",
    "\n",
    "|variable | definition|\n",
    "| - | - |\n",
    "| $i$ | current |\n",
    "| $R$ | resistance of electromagnet |\n",
    "| $L$ | inductance of electromagnet |\n",
    "\n",
    "We can solve for the current by finding the homogenous and particular solution of the previous equation assuming that $V$ is a constant input $\\bar{V}$.\n",
    "\n",
    "$$ i(t) = \\frac{\\bar{V}}{R} \\left(1 - e^{-\\frac{R}{L}t}\\right) $$\n",
    "\n",
    "The magnetic field inside the inductor is equal to\n",
    "\n",
    "$$ B_l(t) = \\mu_0 \\frac{N i(t)}{l} \\hat{x}$$\n",
    "\n",
    "Where $\\hat{x}$ is the unit vector along the length of the magnet. Rewriting $B_l$ with our expression for current we get\n",
    "\n",
    "$$ B_l = \\frac{\\mu_0 N \\bar{V}}{l R}\\left(1-e^{-\\frac{R}{L}t}\\right) \\hat{x}$$\n",
    "\n",
    "If we don't know the number of turns in the electromagnet but know the cross sectional area, we can rewrite the equation for the magnetic field as\n",
    "\n",
    "$$ B_l = \\frac{\\mu_0 i}{l} \\sqrt{\\frac{l L}{\\mu_0 A}} $$"
   ]
  },
  {
   "cell_type": "markdown",
   "metadata": {},
   "source": [
    "## Sensor\n",
    "The voltage output of a hall effect sensor is simply a direct relationship with the magnetic field through the sensor and can be represented as:\n",
    "\n",
    "$$ V_{out} = C_h(B_l + B_m) \\hspace{3cm} [2]$$\n",
    "\n",
    "|variable | definition|\n",
    "| - | - |\n",
    "|$C_h$| hall effect constant |\n",
    "| $B_l$ | magnetic field of electromagnet |\n",
    "| $B_m$ | magnetic field of permanent magnet |\n",
    "\n",
    "## Sources\n",
    "[1] https://web.archive.org/web/20100709205321/http://geophysics.ou.edu/solid_earth/notes/mag_basic/mag_basic.html  \n",
    "[2] https://www.electronics-tutorials.ws/electromagnetism/hall-effect.html"
   ]
  },
  {
   "cell_type": "code",
   "execution_count": null,
   "metadata": {
    "collapsed": true
   },
   "outputs": [],
   "source": []
  },
  {
   "cell_type": "code",
   "execution_count": null,
   "metadata": {
    "collapsed": true
   },
   "outputs": [],
   "source": [
    "\n"
   ]
  }
 ],
 "metadata": {
  "kernelspec": {
   "display_name": "Python 3",
   "language": "python",
   "name": "python3"
  },
  "language_info": {
   "codemirror_mode": {
    "name": "ipython",
    "version": 3
   },
   "file_extension": ".py",
   "mimetype": "text/x-python",
   "name": "python",
   "nbconvert_exporter": "python",
   "pygments_lexer": "ipython3",
   "version": "3.6.1"
  }
 },
 "nbformat": 4,
 "nbformat_minor": 5
}
